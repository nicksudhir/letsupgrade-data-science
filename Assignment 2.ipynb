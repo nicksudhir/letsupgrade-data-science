{
 "cells": [
  {
   "cell_type": "markdown",
   "metadata": {},
   "source": [
    "# question 1\n"
   ]
  },
  {
   "cell_type": "code",
   "execution_count": 2,
   "metadata": {},
   "outputs": [
    {
     "name": "stdout",
     "output_type": "stream",
     "text": [
      "22\n",
      "4\n",
      "44\n",
      "56\n",
      "75\n",
      "67\n",
      "88\n",
      "98\n",
      "53\n",
      "25\n",
      "[22, 4, 44, 56, 88, 98]\n"
     ]
    }
   ],
   "source": [
    "l=[]\n",
    "for i in range(0,10):\n",
    "    n=int(input())\n",
    "    if(n%2==0):\n",
    "        l.append(n)\n",
    "print(l)"
   ]
  },
  {
   "cell_type": "markdown",
   "metadata": {},
   "source": [
    "# question 2"
   ]
  },
  {
   "cell_type": "raw",
   "metadata": {},
   "source": [
    "List comprehensions provide a concise way to create lists. Common applications are to make new lists where each element is the result of some operations applied to each member of another sequence or iterable, or to create a subsequence of those elements that satisfy a certain condition.\n",
    "\n",
    "For example, assume we want to create a list of squares, like:\n",
    "\n",
    ">>>\n",
    ">>> squares = []\n",
    ">>> for x in range(10):\n",
    "...     squares.append(x**2)\n",
    "...\n",
    ">>> squares\n",
    "[0, 1, 4, 9, 16, 25, 36, 49, 64, 81]\n",
    "Note that this creates (or overwrites) a variable named x that still exists after the loop completes. We can calculate the list of squares without any side effects using:\n",
    "\n",
    "squares = list(map(lambda x: x**2, range(10)))\n",
    "or, equivalently:\n",
    "\n",
    "squares = [x**2 for x in range(10)]\n",
    "which is more concise and readable.\n",
    "\n",
    "A list comprehension consists of brackets containing an expression followed by a for clause, then zero or more for or if clauses. The result will be a new list resulting from evaluating the expression in the context of the for and if clauses which follow it. For example, this listcomp combines the elements of two lists if they are not equal:\n",
    "\n",
    ">>>\n",
    ">>> [(x, y) for x in [1,2,3] for y in [3,1,4] if x != y]\n",
    "[(1, 3), (1, 4), (2, 3), (2, 1), (2, 4), (3, 1), (3, 4)]\n",
    "and it’s equivalent to:\n",
    "\n",
    ">>>\n",
    ">>> combs = []\n",
    ">>> for x in [1,2,3]:\n",
    "...     for y in [3,1,4]:\n",
    "...         if x != y:\n",
    "...             combs.append((x, y))\n",
    "...\n",
    ">>> combs\n",
    "[(1, 3), (1, 4), (2, 3), (2, 1), (2, 4), (3, 1), (3, 4)]"
   ]
  },
  {
   "cell_type": "markdown",
   "metadata": {},
   "source": [
    "# question 3\n"
   ]
  },
  {
   "cell_type": "code",
   "execution_count": 3,
   "metadata": {},
   "outputs": [
    {
     "name": "stdout",
     "output_type": "stream",
     "text": [
      "8\n",
      "{1: 1, 2: 4, 3: 9, 4: 16, 5: 25, 6: 36, 7: 49, 8: 64}\n"
     ]
    }
   ],
   "source": [
    "dict = {}\n",
    "n = int(input())\n",
    "for i in range(1,n+1):\n",
    "  dict[i] = i*i\n",
    "print(dict)"
   ]
  },
  {
   "cell_type": "markdown",
   "metadata": {},
   "source": [
    "# question 4"
   ]
  },
  {
   "cell_type": "code",
   "execution_count": 7,
   "metadata": {},
   "outputs": [
    {
     "name": "stdout",
     "output_type": "stream",
     "text": [
      "4\n",
      "UP 5\n",
      "DOWN 3\n",
      "LEFT 3\n",
      "RIGHT 2\n",
      "2\n"
     ]
    }
   ],
   "source": [
    "import math\n",
    "(x,y)=(0,0)\n",
    "for i in range(int(input())):\n",
    "    a,b=input().split()\n",
    "    a,b=str(a),int(b)\n",
    "    if a==\"DOWN\":x,y=x,y-b\n",
    "    elif a==\"LEFT\":x,y=x-b,y\n",
    "    elif a==\"RIGHT\":x,y=x+b,y\n",
    "    else:x,y=x,y+b\n",
    "print(int(round(math.sqrt((x**2)+(y**2)))))"
   ]
  },
  {
   "cell_type": "code",
   "execution_count": null,
   "metadata": {},
   "outputs": [],
   "source": []
  }
 ],
 "metadata": {
  "kernelspec": {
   "display_name": "Python 3",
   "language": "python",
   "name": "python3"
  },
  "language_info": {
   "codemirror_mode": {
    "name": "ipython",
    "version": 3
   },
   "file_extension": ".py",
   "mimetype": "text/x-python",
   "name": "python",
   "nbconvert_exporter": "python",
   "pygments_lexer": "ipython3",
   "version": "3.7.4"
  }
 },
 "nbformat": 4,
 "nbformat_minor": 2
}
